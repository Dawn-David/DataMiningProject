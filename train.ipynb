{
 "cells": [
  {
   "cell_type": "code",
   "execution_count": 17,
   "metadata": {},
   "outputs": [],
   "source": [
    "import pandas as pd\n",
    "import numpy as np\n",
    "from keras.layers import Dense,Dropout,Activation,Input\n",
    "from keras.models import Sequential,Model\n",
    "from keras.callbacks import EarlyStopping, BaseLogger\n",
    "from sklearn.model_selection import train_test_split\n",
    "from keras import metrics\n",
    "import tensorflow as tf\n",
    "import keras.backend.tensorflow_backend as KTF\n",
    "import os\n",
    "#进行配置，每个GPU使用60%上限现存\n",
    "os.environ[\"CUDA_VISIBLE_DEVICES\"]=\"1\" # 使用编号为1，2号的GPU\n",
    "config = tf.ConfigProto()\n",
    "config.gpu_options.per_process_gpu_memory_fraction = 0.6 # 每个GPU现存上届控制在60%以内\n",
    "session = tf.Session(config=config)\n",
    "\n",
    "# 设置session\n",
    "KTF.set_session(session )"
   ]
  },
  {
   "cell_type": "code",
   "execution_count": 41,
   "metadata": {},
   "outputs": [],
   "source": [
    "df_train = pd.read_csv('data/train_1.csv')\n",
    "y_train = pd.read_csv('data/label_1.csv').values\n",
    "df_test = pd.read_csv('data/test_1.csv')"
   ]
  },
  {
   "cell_type": "code",
   "execution_count": null,
   "metadata": {},
   "outputs": [],
   "source": [
    "model = Sequential()\n",
    "input_size = len(df_train.columns)\n",
    "model.add(Dense(units=90, activation='relu', input_shape=(input_size, )))\n",
    "model.add(Dropout(0.5))\n",
    "model.add(Dense(units=45, activation='relu'))\n",
    "model.add(Dropout(0.5))\n",
    "model.add(Dense(units=30,activation='relu'))\n",
    "model.add(Dropout(0.25))\n",
    "model.add(Dense(units=15, activation='relu'))\n",
    "model.add(Dropout(0.1))\n",
    "# 此处不能使用激活函数，因为放假是放射的\n",
    "model.add(Dense(units=1,activation=None))\n",
    "# 官网使用mse计算损失\n",
    "model.compile(loss='mean_squared_error',optimizer='adam',metrics=[metrics.mae])\n",
    "model.summary()"
   ]
  },
  {
   "cell_type": "code",
   "execution_count": null,
   "metadata": {},
   "outputs": [],
   "source": [
    "x_tra, x_val, y_tra, y_val = train_test_split(df_train, y_train, test_size=0.2, random_state=2019)"
   ]
  },
  {
   "cell_type": "code",
   "execution_count": null,
   "metadata": {},
   "outputs": [],
   "source": [
    "history = model.fit(x_tra, y_tra, batch_size=64, epochs=5000, verbose=1, validation_data=(x_val, y_val),)"
   ]
  },
  {
   "cell_type": "code",
   "execution_count": null,
   "metadata": {},
   "outputs": [],
   "source": [
    "import matplotlib.pyplot as plt\n",
    "plt.plot(np.arange(len(history.history['loss'])), history.history['loss'], label='train')\n",
    "plt.plot(np.arange(len(history.history['val_loss'])), history.history['val_loss'], label='valid')\n",
    "plt.xlabel('epochs')\n",
    "plt.ylabel('losses')\n",
    "plt.legend(loc=0)\n",
    "plt.show()"
   ]
  },
  {
   "cell_type": "code",
   "execution_count": null,
   "metadata": {},
   "outputs": [],
   "source": [
    "result = pd.DataFrame({'price': model.predict(df_test).reshape(1, -1)[0]})\n",
    "result.to_csv('result.csv', index=False, encoding='utf-8')"
   ]
  }
 ],
 "metadata": {
  "kernelspec": {
   "display_name": "Python 3",
   "language": "python",
   "name": "python3"
  },
  "language_info": {
   "codemirror_mode": {
    "name": "ipython",
    "version": 3
   },
   "file_extension": ".py",
   "mimetype": "text/x-python",
   "name": "python",
   "nbconvert_exporter": "python",
   "pygments_lexer": "ipython3",
   "version": "3.6.8"
  }
 },
 "nbformat": 4,
 "nbformat_minor": 2
}
