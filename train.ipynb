{
 "cells": [
  {
   "cell_type": "code",
   "execution_count": 17,
   "metadata": {},
   "outputs": [],
   "source": [
    "# 基本数据load库\n",
    "import pandas as pd\n",
    "import numpy as np"
   ]
  },
  {
   "cell_type": "code",
   "execution_count": 18,
   "metadata": {},
   "outputs": [],
   "source": [
    "df_train = pd.read_csv('data/train_1.csv')\n",
    "df_test = pd.read_csv('data/test_1.csv')\n",
    "y_train = df_train['pm2.5']\n",
    "df_train.drop(columns=['pm2.5'], inplace=True)\n",
    "x_train = df_train.values\n",
    "x_test = df_test.values"
   ]
  },
  {
   "cell_type": "code",
   "execution_count": 23,
   "metadata": {},
   "outputs": [],
   "source": [
    "from sklearn.linear_model import LinearRegression, Ridge, Lasso\n",
    "from sklearn.tree import DecisionTreeRegressor\n",
    "from sklearn.svm import SVR\n",
    "from sklearn.neighbors import KNeighborsRegressor\n",
    "lr = LinearRegression()\n",
    "dtr = DecisionTreeRegressor()\n",
    "svr_rbf = SVR(kernel='rbf', gamma='auto')\n",
    "knr = KNeighborsRegressor()\n",
    "ridge = Ridge()\n",
    "lasso = Lasso()\n",
    "regression_models = [lr, dtr, svr_rbf, knr, ridge, lasso]"
   ]
  },
  {
   "cell_type": "code",
   "execution_count": 20,
   "metadata": {},
   "outputs": [],
   "source": [
    "# 划分测试集和验证集\n",
    "from sklearn.model_selection import train_test_split \n",
    "x_tra, x_val, y_tra, y_val = train_test_split(x_train, y_train, random_state=2019, test_size=0.2)"
   ]
  },
  {
   "cell_type": "code",
   "execution_count": 24,
   "metadata": {
    "scrolled": true
   },
   "outputs": [
    {
     "data": {
      "text/plain": [
       "StackingRegressor(meta_regressor=Ridge(alpha=1.0, copy_X=True, fit_intercept=True, max_iter=None,\n",
       "   normalize=False, random_state=None, solver='auto', tol=0.001),\n",
       "         refit=True,\n",
       "         regressors=[LinearRegression(copy_X=True, fit_intercept=True, n_jobs=None,\n",
       "         normalize=False), DecisionTreeRegressor(criterion='mse', max_depth=None, max_features=None,\n",
       "           max_leaf_nodes=None, min_impurity_decrease=0.0,\n",
       "           min_impurity_split=None, min_samples_leaf=1,\n",
       "         ...ve=False, precompute=False, random_state=None,\n",
       "   selection='cyclic', tol=0.0001, warm_start=False)],\n",
       "         store_train_meta_features=False, use_features_in_secondary=False,\n",
       "         verbose=0)"
      ]
     },
     "execution_count": 24,
     "metadata": {},
     "output_type": "execute_result"
    }
   ],
   "source": [
    "from mlxtend.regressor import StackingCVRegressor\n",
    "sclf = StackingRegressor(regression_models, meta_regressor=ridge)\n",
    "sclf.fit(x_tra, y_tra)"
   ]
  },
  {
   "cell_type": "code",
   "execution_count": 22,
   "metadata": {},
   "outputs": [
    {
     "name": "stdout",
     "output_type": "stream",
     "text": [
      "MSE is 2912.423916083915\n"
     ]
    }
   ],
   "source": [
    "# 评价模型\n",
    "from sklearn.metrics import mean_squared_error\n",
    "pred = sclf.predict(x_val)\n",
    "print(\"MSE is {}\".format(mean_squared_error(y_val, pred)))"
   ]
  },
  {
   "cell_type": "code",
   "execution_count": 61,
   "metadata": {},
   "outputs": [
    {
     "data": {
      "image/png": "[encoded data removed]",
      "text/plain": [
       "<Figure size 432x288 with 1 Axes>"
      ]
     },
     "metadata": {
      "needs_background": "light"
     },
     "output_type": "display_data"
    }
   ],
   "source": [
    "# 回归模型可视化\n",
    "import matplotlib.pyplot as plt\n",
    "\n",
    "plt.scatter([i*10 for i in range(len(y_val))], y_val, c='red', lw=1)\n",
    "plt.plot([i*10 for i in range(len(y_val))], pred, c='black', lw=1)\n",
    "plt.show()"
   ]
  },
  {
   "cell_type": "code",
   "execution_count": 62,
   "metadata": {},
   "outputs": [],
   "source": [
    "result = sclf.predict(x_test)\n",
    "rst = pd.DataFrame({'pm2.5': result})\n",
    "rst.to_csv('data/result.csv', index=False)"
   ]
  }
 ],
 "metadata": {
  "kernelspec": {
   "display_name": "Python 3",
   "language": "python",
   "name": "python3"
  },
  "language_info": {
   "codemirror_mode": {
    "name": "ipython",
    "version": 3
   },
   "file_extension": ".py",
   "mimetype": "text/x-python",
   "name": "python",
   "nbconvert_exporter": "python",
   "pygments_lexer": "ipython3",
   "version": "3.6.8"
  }
 },
 "nbformat": 4,
 "nbformat_minor": 2
}
