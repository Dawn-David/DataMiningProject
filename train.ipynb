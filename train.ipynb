{
 "cells": [
  {
   "cell_type": "code",
   "execution_count": 54,
   "metadata": {
    "scrolled": true
   },
   "outputs": [],
   "source": [
    "import pandas as pd\n",
    "df_train = pd.read_csv('data/train.csv')\n",
    "df_test = pd.read_csv('data/test_data.csv')"
   ]
  },
  {
   "cell_type": "code",
   "execution_count": 55,
   "metadata": {},
   "outputs": [
    {
     "name": "stdout",
     "output_type": "stream",
     "text": [
      "训练集探索\n",
      "   id         1         2         3         4         5         6         7  \\\n",
      "0   1  0.563650  1.069229 -0.837759 -1.122021  0.433296  0.770755 -0.477153   \n",
      "1   2  0.061333  0.058830  0.056952  0.068634  0.073433  0.072390  0.042975   \n",
      "2   3  0.035736  0.010964 -0.164872 -0.167714 -0.125075 -0.104771 -0.016650   \n",
      "3   4 -0.046700  0.060913  0.009340 -0.093400 -0.067817  0.022335  0.006091   \n",
      "4   5  0.162922 -0.377662  0.014457  0.565437 -0.203369 -0.511508  0.410961   \n",
      "\n",
      "          8         9  ...      5992      5993      5994      5995      5996  \\\n",
      "0 -0.588421  0.455224  ... -0.050761  0.220506  0.036548 -0.097461 -0.084060   \n",
      "1 -0.007302 -0.026286  ...  0.061333  0.107437  0.104516  0.063419 -0.014394   \n",
      "2  0.151471  0.137258  ...  4.272044 -1.991455 -2.922208  1.937039  0.704156   \n",
      "3 -0.076751 -0.032893  ...  0.095025 -0.000406  0.091776  0.074314 -0.082842   \n",
      "4  0.228546 -0.515244  ... -0.093563 -0.263632  0.114517  0.209541 -0.184851   \n",
      "\n",
      "       5997      5998      5999      6000  label  \n",
      "0 -0.007716 -0.049949 -0.018274  0.021523      7  \n",
      "1 -0.048607 -0.009388  0.058830  0.129342      0  \n",
      "2 -2.085667  0.203044  0.739892 -2.149829      9  \n",
      "3 -0.110050 -0.028020  0.025990 -0.050355      9  \n",
      "4 -0.075370  0.286211  0.005685 -0.223348      7  \n",
      "\n",
      "[5 rows x 6002 columns]\n"
     ]
    }
   ],
   "source": [
    "print(\"训练集探索\")\n",
    "print(df_train.head())"
   ]
  },
  {
   "cell_type": "code",
   "execution_count": 6,
   "metadata": {},
   "outputs": [],
   "source": [
    "# 提取训练集的y集\n",
    "y_train = pd.DataFrame()\n",
    "y_train['label'] = df_train['label']\n",
    "df_train.drop(columns='label', inplace=True)\n",
    "y_train"
   ]
  },
  {
   "cell_type": "code",
   "execution_count": 2,
   "metadata": {},
   "outputs": [],
   "source": [
    "# 定义函数计算时序数据特征值，参考tsfresh，但是减少了特征量\n",
    "import numpy as np\n",
    "from scipy import stats\n",
    "def get_t(df):\n",
    "    mean_list = []\n",
    "    std_list = []\n",
    "    var_list = []\n",
    "    min_list = []\n",
    "    max_list = []\n",
    "    median_list = []\n",
    "    skew_list = []\n",
    "    kuri_list = []\n",
    "    x = pd.DataFrame()\n",
    "    for i in range(len(df)):\n",
    "        mean_list.append(np.mean(df.iloc[i][1:].values))\n",
    "        std_list.append(np.std(df.iloc[i][1:].values))\n",
    "        var_list.append(np.var(df.iloc[i][1:].values))\n",
    "        min_list.append(np.min(df.iloc[i][1:].values))\n",
    "        max_list.append(np.max(df.iloc[i][1:].values))\n",
    "        median_list.append(np.median(df.iloc[i][1:].values))\n",
    "        skew_list.append(stats.skew(df.iloc[i][1:].values))\n",
    "        kuri_list.append(stats.kurtosis(df.iloc[i][1:].values))\n",
    "    x['mean'] = mean_list\n",
    "    x['std'] = std_list\n",
    "    x['var'] = var_list\n",
    "    x['min'] = min_list\n",
    "    x['max'] = max_list\n",
    "    x['median'] = median_list\n",
    "    x['skew'] = skew_list\n",
    "    x['kuri'] = kuri_list\n",
    "    return x"
   ]
  },
  {
   "cell_type": "code",
   "execution_count": 7,
   "metadata": {
    "scrolled": true
   },
   "outputs": [
    {
     "name": "stdout",
     "output_type": "stream",
     "text": [
      "       mean       std       var       min       max    median      skew  \\\n",
      "0  0.004765  0.583343  0.340289 -3.003019  3.236114  0.007919  0.000519   \n",
      "1  0.015331  0.065739  0.004322 -0.222801  0.221132  0.017524 -0.205528   \n",
      "2  0.003270  0.540327  0.291954 -5.501272  5.912233  0.002843  0.231480   \n",
      "3  0.004026  0.366301  0.134176 -3.955295  3.712455  0.003249 -0.492159   \n",
      "4  0.013258  0.233977  0.054745 -1.754299  1.550606  0.010802 -0.048808   \n",
      "\n",
      "        kuri  \n",
      "0   4.984610  \n",
      "1   0.036342  \n",
      "2  21.957896  \n",
      "3  34.973034  \n",
      "4   5.036917  \n",
      "       mean       std       var       min       max    median      skew  \\\n",
      "0  0.003489  0.537096  0.288472 -4.631026  5.202391  0.003249 -0.019100   \n",
      "1  0.006061  0.809820  0.655808 -2.891751  3.168703 -0.003452  0.085543   \n",
      "2  0.006581  0.361151  0.130430 -3.624334  3.813977  0.006497 -0.474609   \n",
      "3  0.009584  0.063453  0.004026 -0.243246  0.197559  0.011891 -0.156539   \n",
      "4  0.004482  0.152550  0.023271 -0.518818  0.556503  0.003411  0.046709   \n",
      "\n",
      "        kuri  \n",
      "0  17.459809  \n",
      "1   1.154068  \n",
      "2  30.183324  \n",
      "3  -0.127848  \n",
      "4  -0.115646  \n"
     ]
    }
   ],
   "source": [
    "# 对训练集和测试集利用时序数据构造新特征\n",
    "x_train = get_t(df_train)\n",
    "x_test = get_t(df_test)\n",
    "print(x_train.head())\n",
    "print(x_test.head())"
   ]
  },
  {
   "cell_type": "code",
   "execution_count": 30,
   "metadata": {},
   "outputs": [],
   "source": [
    "def to_file(label, df_test):\n",
    "    \"\"\"\n",
    "    将预测的label组合成csv文件输出\n",
    "    \"\"\"\n",
    "    result = pd.DataFrame()\n",
    "    result['id'] = df_test['id']\n",
    "    result['label'] = label\n",
    "    result.to_csv('data/result.csv', index=False, encoding=\"utf-8\")"
   ]
  },
  {
   "cell_type": "code",
   "execution_count": 53,
   "metadata": {
    "scrolled": true
   },
   "outputs": [
    {
     "name": "stdout",
     "output_type": "stream",
     "text": [
      "[[38  0  0  0  0  0  0  0  0  0]\n",
      " [ 0 10  0  0  0  0  0  0  0  0]\n",
      " [ 0  0  9  0  0  0  0  0  1  0]\n",
      " [ 0  0  1  7  0  0  0  0  0  0]\n",
      " [ 0  0  0  0  8  0  0  0  0  0]\n",
      " [ 0  0  0  0  0 11  0  0  0  0]\n",
      " [ 0  0  0  0  0  0 11  0  0  0]\n",
      " [ 0  0  0  0  0  0  0 27  0  0]\n",
      " [ 0  0  0  0  0  0  0  0  8  0]\n",
      " [ 0  0  0  0  0  0  0  0  0 28]]\n",
      "0.9874213836477987\n"
     ]
    }
   ],
   "source": [
    "# 随机森林在验证集上表现不错\n",
    "from sklearn.model_selection import train_test_split\n",
    "from sklearn.ensemble import RandomForestClassifier\n",
    "from sklearn.metrics import confusion_matrix, accuracy_score\n",
    "clf = RandomForestClassifier(n_estimators=50)\n",
    "x_tra, x_val, y_tra, y_val = train_test_split(x_train, y_train.values.reshape(len(y_train), ), test_size=0.2)\n",
    "clf.fit(x_tra, y_tra)\n",
    "print(confusion_matrix(y_val, clf.predict(x_val)))\n",
    "print(accuracy_score(y_val, clf.predict(x_val)))"
   ]
  },
  {
   "cell_type": "code",
   "execution_count": 43,
   "metadata": {
    "scrolled": true
   },
   "outputs": [],
   "source": [
    "rst = clf.predict(x_test)\n",
    "to_file(rst, df_test)"
   ]
  }
 ],
 "metadata": {
  "kernelspec": {
   "display_name": "Python 3",
   "language": "python",
   "name": "python3"
  },
  "language_info": {
   "codemirror_mode": {
    "name": "ipython",
    "version": 3
   },
   "file_extension": ".py",
   "mimetype": "text/x-python",
   "name": "python",
   "nbconvert_exporter": "python",
   "pygments_lexer": "ipython3",
   "version": "3.6.8"
  }
 },
 "nbformat": 4,
 "nbformat_minor": 2
}
