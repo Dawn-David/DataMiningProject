{
 "cells": [
  {
   "cell_type": "code",
   "execution_count": 5,
   "metadata": {
    "scrolled": true
   },
   "outputs": [
    {
     "name": "stdout",
     "output_type": "stream",
     "text": [
      "训练集探索\n",
      "   id         1         2         3         4         5         6         7  \\\n",
      "0   1  0.563650  1.069229 -0.837759 -1.122021  0.433296  0.770755 -0.477153   \n",
      "1   2  0.061333  0.058830  0.056952  0.068634  0.073433  0.072390  0.042975   \n",
      "2   3  0.035736  0.010964 -0.164872 -0.167714 -0.125075 -0.104771 -0.016650   \n",
      "3   4 -0.046700  0.060913  0.009340 -0.093400 -0.067817  0.022335  0.006091   \n",
      "4   5  0.162922 -0.377662  0.014457  0.565437 -0.203369 -0.511508  0.410961   \n",
      "\n",
      "          8         9  ...        5992      5993      5994      5995  \\\n",
      "0 -0.588421  0.455224  ...   -0.050761  0.220506  0.036548 -0.097461   \n",
      "1 -0.007302 -0.026286  ...    0.061333  0.107437  0.104516  0.063419   \n",
      "2  0.151471  0.137258  ...    4.272044 -1.991455 -2.922208  1.937039   \n",
      "3 -0.076751 -0.032893  ...    0.095025 -0.000406  0.091776  0.074314   \n",
      "4  0.228546 -0.515244  ...   -0.093563 -0.263632  0.114517  0.209541   \n",
      "\n",
      "       5996      5997      5998      5999      6000  label  \n",
      "0 -0.084060 -0.007716 -0.049949 -0.018274  0.021523      7  \n",
      "1 -0.014394 -0.048607 -0.009388  0.058830  0.129342      0  \n",
      "2  0.704156 -2.085667  0.203044  0.739892 -2.149829      9  \n",
      "3 -0.082842 -0.110050 -0.028020  0.025990 -0.050355      9  \n",
      "4 -0.184851 -0.075370  0.286211  0.005685 -0.223348      7  \n",
      "\n",
      "[5 rows x 6002 columns]\n",
      "792\n",
      "测试集探索\n",
      "   id         1         2         3         4         5         6         7  \\\n",
      "0   1  0.034517  0.087715 -0.273297 -0.339489  0.187613  0.282231 -0.196953   \n",
      "1   2 -1.981709  0.483651  2.006886 -0.057258 -1.880593 -0.495427  1.558159   \n",
      "2   3  0.817049 -0.081218 -1.109432  0.011370  0.441824 -0.523853 -0.428829   \n",
      "3   4  0.114113  0.143527  0.124126  0.075102  0.045687  0.032335  0.022948   \n",
      "4   5 -0.013807  0.014132  0.111593 -0.017543 -0.211003 -0.034436  0.187937   \n",
      "\n",
      "          8         9    ...         5991      5992      5993      5994  \\\n",
      "0 -0.015837  0.429235    ...     0.020304 -0.062538  0.025990  0.077969   \n",
      "1  0.723649 -1.331562    ...     0.340302 -0.224160 -0.387408  0.066192   \n",
      "2  0.475935  0.218475    ...    -0.229034 -0.212790 -0.085685 -0.006903   \n",
      "3 -0.015020 -0.031292    ...     0.065505  0.083029  0.112235  0.120371   \n",
      "4 -0.080405 -0.157075    ...     0.146516  0.087390 -0.107045 -0.120040   \n",
      "\n",
      "       5995      5996      5997      5998      5999      6000  \n",
      "0  0.043045 -0.032081 -0.026396  0.106801  0.088121 -0.040203  \n",
      "1  0.443448  0.264769 -0.177054 -0.452382 -0.154719  0.259084  \n",
      "2 -0.064568 -0.012183  0.130354 -0.038172 -0.013401  0.263551  \n",
      "3  0.121414  0.072598  0.000834 -0.037759 -0.028998  0.031501  \n",
      "4  0.054091 -0.000812 -0.145704  0.003411  0.143593  0.034599  \n",
      "\n",
      "[5 rows x 6001 columns]\n",
      "528\n"
     ]
    }
   ],
   "source": [
    "import pandas as pd\n",
    "df_train = pd.read_csv('data/train.csv')\n",
    "df_test = pd.read_csv('data/test_data.csv')\n",
    "print(\"训练集探索\")\n",
    "print(df_train.head())\n",
    "print(len(df_train))\n",
    "print(\"测试集探索\")\n",
    "print(df_test.head())\n",
    "print(len(df_test))"
   ]
  },
  {
   "cell_type": "code",
   "execution_count": 3,
   "metadata": {},
   "outputs": [
    {
     "name": "stdout",
     "output_type": "stream",
     "text": [
      "3.0\n"
     ]
    }
   ],
   "source": [
    "# 测试DTW计算结果\n",
    "import numpy as np\n",
    "from DTW import DTW \n",
    "s1 = np.array([1, 2, 3, 4, 5, 5, 5, 4])\n",
    "s2 = np.array([3, 4, 5, 5, 5, 4])\n",
    "print(DTW(s1,s2))"
   ]
  },
  {
   "cell_type": "code",
   "execution_count": 6,
   "metadata": {},
   "outputs": [],
   "source": [
    "# 提取训练集的y集\n",
    "y_train = pd.DataFrame()\n",
    "y_train['label'] = df_train['label']\n",
    "df_train.drop(columns='label', inplace=True)"
   ]
  },
  {
   "cell_type": "code",
   "execution_count": 8,
   "metadata": {},
   "outputs": [],
   "source": [
    "# 定义函数计算时序数据特征值，参考tsfresh，但是减少了特征量\n",
    "import numpy as np\n",
    "def get_t(df):\n",
    "    mean_list = []\n",
    "    std_list = []\n",
    "    var_list = []\n",
    "    min_list = []\n",
    "    max_list = []\n",
    "    median_list = []\n",
    "    x = pd.DataFrame()\n",
    "    for i in range(len(df)):\n",
    "        mean_list.append(np.mean(df.iloc[i][1:].values))\n",
    "        std_list.append(np.std(df.iloc[i][1:].values))\n",
    "        var_list.append(np.var(df.iloc[i][1:].values))\n",
    "        min_list.append(np.min(df.iloc[i][1:].values))\n",
    "        max_list.append(np.max(df.iloc[i][1:].values))\n",
    "        median_list.append(np.median(df.iloc[i][1:].values))\n",
    "    x['mean'] = mean_list\n",
    "    x['std'] = std_list\n",
    "    x['var'] = var_list\n",
    "    x['min'] = min_list\n",
    "    x['max'] = max_list\n",
    "    x['median'] = median_list\n",
    "    return x"
   ]
  },
  {
   "cell_type": "code",
   "execution_count": 9,
   "metadata": {},
   "outputs": [
    {
     "name": "stdout",
     "output_type": "stream",
     "text": [
      "       mean       std       var       min       max    median\n",
      "0  0.004765  0.583343  0.340289 -3.003019  3.236114  0.007919\n",
      "1  0.015331  0.065739  0.004322 -0.222801  0.221132  0.017524\n",
      "2  0.003270  0.540327  0.291954 -5.501272  5.912233  0.002843\n",
      "3  0.004026  0.366301  0.134176 -3.955295  3.712455  0.003249\n",
      "4  0.013258  0.233977  0.054745 -1.754299  1.550606  0.010802\n",
      "       mean       std       var       min       max    median\n",
      "0  0.003489  0.537096  0.288472 -4.631026  5.202391  0.003249\n",
      "1  0.006061  0.809820  0.655808 -2.891751  3.168703 -0.003452\n",
      "2  0.006581  0.361151  0.130430 -3.624334  3.813977  0.006497\n",
      "3  0.009584  0.063453  0.004026 -0.243246  0.197559  0.011891\n",
      "4  0.004482  0.152550  0.023271 -0.518818  0.556503  0.003411\n"
     ]
    }
   ],
   "source": [
    "# 对训练集和测试集利用时序数据构造新特征\n",
    "x_train = get_t(df_train)\n",
    "x_test = get_t(df_test)\n",
    "print(x_train.head())\n",
    "print(x_test.head())"
   ]
  },
  {
   "cell_type": "code",
   "execution_count": 11,
   "metadata": {
    "scrolled": true
   },
   "outputs": [],
   "source": [
    "# 使用sklearn中的KNN进行训练，尝试邻居数目优化不能对准确率有所改动\n",
    "from sklearn.neighbors import KNeighborsClassifier\n",
    "knn = KNeighborsClassifier()\n",
    "knn.fit(x_train, y_train.values.reshape(len(y_train), ))\n",
    "# 进行结果预测\n",
    "rst = knn.predict(x_test)\n",
    "result = pd.DataFrame()\n",
    "result['id'] = df_test['id']\n",
    "result['label'] = rst\n",
    "result.to_csv('data/result.csv', index=False, encoding=\"utf-8\")"
   ]
  },
  {
   "cell_type": "code",
   "execution_count": 12,
   "metadata": {},
   "outputs": [
    {
     "name": "stdout",
     "output_type": "stream",
     "text": [
      "[[177   0   0   0   0   0   0   0   0   0]\n",
      " [  0  35   0  11   0   0   0   0   0   0]\n",
      " [  0   0  24  12   0   2   0   1   1   3]\n",
      " [  0   0   5  23   0   2   0   0  20   0]\n",
      " [  0   0   0   0  49   0   0   2   0   0]\n",
      " [  0   0   0   0   0  47   0   0   0   0]\n",
      " [  0   0   0   0   0   0  38   5   0   9]\n",
      " [  0   0   0   0   5   2   0 132   0   1]\n",
      " [  4   0   0   8   0   0   0   0  33   0]\n",
      " [  0   0   0   0   9   0   0   9   0 123]]\n"
     ]
    },
    {
     "name": "stderr",
     "output_type": "stream",
     "text": [
      "C:\\Users\\16957\\Anaconda3\\envs\\data-analysis\\lib\\site-packages\\sklearn\\svm\\base.py:931: ConvergenceWarning: Liblinear failed to converge, increase the number of iterations.\n",
      "  \"the number of iterations.\", ConvergenceWarning)\n",
      "C:\\Users\\16957\\Anaconda3\\envs\\data-analysis\\lib\\site-packages\\sklearn\\svm\\base.py:931: ConvergenceWarning: Liblinear failed to converge, increase the number of iterations.\n",
      "  \"the number of iterations.\", ConvergenceWarning)\n"
     ]
    }
   ],
   "source": [
    "# 使用SVM进行预测，比对分数，发现表现很差，在增加时序提取的特征后表现较好，仍不比随机森林\n",
    "from sklearn.multiclass import OneVsOneClassifier\n",
    "from sklearn.svm import LinearSVC\n",
    "from sklearn.metrics import confusion_matrix\n",
    "clf = OneVsOneClassifier(LinearSVC(random_state=0))\n",
    "clf.fit(x_train, y_train.values.reshape(len(y_train, )))\n",
    "rst = clf.predict(x_train)\n",
    "print(confusion_matrix(y_train, rst))"
   ]
  },
  {
   "cell_type": "code",
   "execution_count": 13,
   "metadata": {
    "scrolled": true
   },
   "outputs": [
    {
     "name": "stdout",
     "output_type": "stream",
     "text": [
      "[[177   0   0   0   0   0   0   0   0   0]\n",
      " [  0  46   0   0   0   0   0   0   0   0]\n",
      " [  0   0  43   0   0   0   0   0   0   0]\n",
      " [  0   0   0  50   0   0   0   0   0   0]\n",
      " [  0   0   0   0  51   0   0   0   0   0]\n",
      " [  0   0   0   0   0  47   0   0   0   0]\n",
      " [  0   0   0   0   0   0  52   0   0   0]\n",
      " [  0   0   0   0   0   0   0 140   0   0]\n",
      " [  0   0   0   0   0   0   0   0  45   0]\n",
      " [  0   0   0   0   0   0   0   0   0 141]]\n"
     ]
    },
    {
     "name": "stderr",
     "output_type": "stream",
     "text": [
      "C:\\Users\\16957\\Anaconda3\\envs\\data-analysis\\lib\\site-packages\\sklearn\\ensemble\\forest.py:246: FutureWarning: The default value of n_estimators will change from 10 in version 0.20 to 100 in 0.22.\n",
      "  \"10 in version 0.20 to 100 in 0.22.\", FutureWarning)\n"
     ]
    }
   ],
   "source": [
    "# 随机森林在验证集上表现不错\n",
    "from sklearn.ensemble import RandomForestClassifier\n",
    "clf = RandomForestClassifier()\n",
    "clf.fit(x_train, y_train.values.reshape(len(y_train, )))\n",
    "rst = clf.predict(x_train)\n",
    "print(confusion_matrix(y_train, rst))"
   ]
  },
  {
   "cell_type": "code",
   "execution_count": 14,
   "metadata": {
    "scrolled": true
   },
   "outputs": [
    {
     "name": "stderr",
     "output_type": "stream",
     "text": [
      "C:\\Users\\16957\\Anaconda3\\envs\\data-analysis\\lib\\site-packages\\sklearn\\ensemble\\forest.py:246: FutureWarning: The default value of n_estimators will change from 10 in version 0.20 to 100 in 0.22.\n",
      "  \"10 in version 0.20 to 100 in 0.22.\", FutureWarning)\n"
     ]
    }
   ],
   "source": [
    "# 随机森林在测试集上表现也不错，准确率达到94\n",
    "from sklearn.ensemble import RandomForestClassifier\n",
    "clf = RandomForestClassifier()\n",
    "clf.fit(x_train, y_train.values.reshape(len(y_train, )))\n",
    "rst = clf.predict(x_test)\n",
    "result = pd.DataFrame()\n",
    "result['id'] = df_test['id']\n",
    "result['label'] = rst\n",
    "result.to_csv('data/result.csv', index=False, encoding=\"utf-8\")"
   ]
  }
 ],
 "metadata": {
  "kernelspec": {
   "display_name": "Python 3",
   "language": "python",
   "name": "python3"
  },
  "language_info": {
   "codemirror_mode": {
    "name": "ipython",
    "version": 3
   },
   "file_extension": ".py",
   "mimetype": "text/x-python",
   "name": "python",
   "nbconvert_exporter": "python",
   "pygments_lexer": "ipython3",
   "version": "3.6.6"
  }
 },
 "nbformat": 4,
 "nbformat_minor": 2
}
