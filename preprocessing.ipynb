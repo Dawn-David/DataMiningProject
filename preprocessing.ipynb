{
 "cells": [
  {
   "cell_type": "code",
   "execution_count": null,
   "metadata": {},
   "outputs": [],
   "source": [
    "import pandas as pd"
   ]
  },
  {
   "cell_type": "code",
   "execution_count": null,
   "metadata": {},
   "outputs": [],
   "source": [
    "columns = ['Time', 'NumOfBeedroom', 'NumOfBathroom', 'AreaOfHouse', 'AreaOfParking', 'NumOfFloor', 'Rating', 'AreaOfBuilding',\n",
    "           'AreaOfUnderGround', 'YearOfBuild', 'YearOfRepair', 'Latitude', 'Longitude']\n",
    "df_train = pd.read_csv('../input/kc_train.csv', header=None)\n",
    "df_test = pd.read_csv('../input/kc_test.csv', header=None)\n",
    "# 提取房价\n",
    "df_price = pd.DataFrame(columns=['Price'])\n",
    "df_price['Price'] = df_train[1]\n",
    "df_train.drop(columns=[1], inplace=True)\n",
    "df_train.columns = columns\n",
    "df_test.columns = columns\n",
    "\n",
    "def get_feature(df):\n",
    "    sell_year, sell_month, sell_day, build_age, repair_age = [], [], [], [], []\n",
    "    for [time, build_year, repair_year] in df[['Time', 'YearOfBuild', 'YearOfRepair']].values:\n",
    "        year, month, day = int(str(time)[0:4]), int(str(time)[4:6]), int(str(time)[6:8])\n",
    "        sell_year.append(year)\n",
    "        sell_month.append(month)\n",
    "        sell_day.append(day)\n",
    "        build_age.append(year-build_year)\n",
    "        if repair_year == 0:\n",
    "            repair_age.append(0)\n",
    "        else:\n",
    "            repair_age.append(year-repair_year)\n",
    "    df.drop(columns=['Time'], inplace=True)\n",
    "    df['sell_year'] = sell_year\n",
    "    df['sell_month'] = sell_month\n",
    "    df['sell_day'] = sell_day\n",
    "    df['build_age'] = build_age\n",
    "    df['repair_age'] = repair_age\n",
    "    for item in df.columns:\n",
    "        df[item] = (df[item] - df[item].min() )/(df[item].max()-df[item].min())\n",
    "        \n",
    "        \n",
    "get_feature(df_train)\n",
    "get_feature(df_test)\n",
    "\n",
    "# 落地特征工程后的数据集\n",
    "df_train.to_csv('data/train_1.csv', index=False)\n",
    "df_price.to_csv('data/label_1.csv', index=False)\n",
    "df_test.to_csv('data/test_1.csv', index=False)"
   ]
  }
 ],
 "metadata": {
  "kernelspec": {
   "display_name": "Python 3",
   "language": "python",
   "name": "python3"
  },
  "language_info": {
   "codemirror_mode": {
    "name": "ipython",
    "version": 3
   },
   "file_extension": ".py",
   "mimetype": "text/x-python",
   "name": "python",
   "nbconvert_exporter": "python",
   "pygments_lexer": "ipython3",
   "version": "3.6.8"
  }
 },
 "nbformat": 4,
 "nbformat_minor": 2
}
