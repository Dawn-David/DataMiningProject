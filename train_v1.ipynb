{
 "cells": [
  {
   "cell_type": "code",
   "execution_count": 1,
   "metadata": {
    "scrolled": true
   },
   "outputs": [
    {
     "name": "stdout",
     "output_type": "stream",
     "text": [
      "训练集探索\n",
      "   id         1         2         3         4         5         6         7  \\\n",
      "0   1  0.563650  1.069229 -0.837759 -1.122021  0.433296  0.770755 -0.477153   \n",
      "1   2  0.061333  0.058830  0.056952  0.068634  0.073433  0.072390  0.042975   \n",
      "2   3  0.035736  0.010964 -0.164872 -0.167714 -0.125075 -0.104771 -0.016650   \n",
      "3   4 -0.046700  0.060913  0.009340 -0.093400 -0.067817  0.022335  0.006091   \n",
      "4   5  0.162922 -0.377662  0.014457  0.565437 -0.203369 -0.511508  0.410961   \n",
      "\n",
      "          8         9  ...        5992      5993      5994      5995  \\\n",
      "0 -0.588421  0.455224  ...   -0.050761  0.220506  0.036548 -0.097461   \n",
      "1 -0.007302 -0.026286  ...    0.061333  0.107437  0.104516  0.063419   \n",
      "2  0.151471  0.137258  ...    4.272044 -1.991455 -2.922208  1.937039   \n",
      "3 -0.076751 -0.032893  ...    0.095025 -0.000406  0.091776  0.074314   \n",
      "4  0.228546 -0.515244  ...   -0.093563 -0.263632  0.114517  0.209541   \n",
      "\n",
      "       5996      5997      5998      5999      6000  label  \n",
      "0 -0.084060 -0.007716 -0.049949 -0.018274  0.021523      7  \n",
      "1 -0.014394 -0.048607 -0.009388  0.058830  0.129342      0  \n",
      "2  0.704156 -2.085667  0.203044  0.739892 -2.149829      9  \n",
      "3 -0.082842 -0.110050 -0.028020  0.025990 -0.050355      9  \n",
      "4 -0.184851 -0.075370  0.286211  0.005685 -0.223348      7  \n",
      "\n",
      "[5 rows x 6002 columns]\n",
      "792\n",
      "测试集探索\n",
      "   id         1         2         3         4         5         6         7  \\\n",
      "0   1  0.034517  0.087715 -0.273297 -0.339489  0.187613  0.282231 -0.196953   \n",
      "1   2 -1.981709  0.483651  2.006886 -0.057258 -1.880593 -0.495427  1.558159   \n",
      "2   3  0.817049 -0.081218 -1.109432  0.011370  0.441824 -0.523853 -0.428829   \n",
      "3   4  0.114113  0.143527  0.124126  0.075102  0.045687  0.032335  0.022948   \n",
      "4   5 -0.013807  0.014132  0.111593 -0.017543 -0.211003 -0.034436  0.187937   \n",
      "\n",
      "          8         9    ...         5991      5992      5993      5994  \\\n",
      "0 -0.015837  0.429235    ...     0.020304 -0.062538  0.025990  0.077969   \n",
      "1  0.723649 -1.331562    ...     0.340302 -0.224160 -0.387408  0.066192   \n",
      "2  0.475935  0.218475    ...    -0.229034 -0.212790 -0.085685 -0.006903   \n",
      "3 -0.015020 -0.031292    ...     0.065505  0.083029  0.112235  0.120371   \n",
      "4 -0.080405 -0.157075    ...     0.146516  0.087390 -0.107045 -0.120040   \n",
      "\n",
      "       5995      5996      5997      5998      5999      6000  \n",
      "0  0.043045 -0.032081 -0.026396  0.106801  0.088121 -0.040203  \n",
      "1  0.443448  0.264769 -0.177054 -0.452382 -0.154719  0.259084  \n",
      "2 -0.064568 -0.012183  0.130354 -0.038172 -0.013401  0.263551  \n",
      "3  0.121414  0.072598  0.000834 -0.037759 -0.028998  0.031501  \n",
      "4  0.054091 -0.000812 -0.145704  0.003411  0.143593  0.034599  \n",
      "\n",
      "[5 rows x 6001 columns]\n",
      "528\n"
     ]
    }
   ],
   "source": [
    "import pandas as pd\n",
    "df_train = pd.read_csv('data/train.csv')\n",
    "df_test = pd.read_csv('data/test_data.csv')\n",
    "print(\"训练集探索\")\n",
    "print(df_train.head())\n",
    "print(len(df_train))\n",
    "print(\"测试集探索\")\n",
    "print(df_test.head())\n",
    "print(len(df_test))"
   ]
  },
  {
   "cell_type": "code",
   "execution_count": 2,
   "metadata": {},
   "outputs": [],
   "source": [
    "# 定义DTW距离计算公式，这是利用短路径计算时序数据间距离的一种新方法，但是计算量大\n",
    "def DTW(s1, s2):\n",
    "    \"\"\"\n",
    "    计算s1和s2之间的距离\n",
    "    使用曼哈顿距离，如果时间序列输入是二维的那么建议使用欧几里得距离\n",
    "    \"\"\"\n",
    "    from numpy import array, zeros, argmin, inf, equal, ndim\n",
    "    from sklearn.metrics.pairwise import manhattan_distances\n",
    "    r, c = len(s1), len(s2)\n",
    "    D0 = zeros((r+1,c+1))\n",
    "    D0[0,1:] = inf\n",
    "    D0[1:,0] = inf\n",
    "    D1 = D0[1:,1:]\n",
    "    \n",
    "    for i in range(r):\n",
    "        for j in range(c):\n",
    "            D1[i,j] = manhattan_distances(np.array(s1[i]).reshape(-1,1),np.array(s2[j]).reshape(-1,1))\n",
    "    M = D1.copy()\n",
    "    for i in range(r):\n",
    "        for j in range(c):\n",
    "            D1[i,j] += min(D0[i,j],D0[i,j+1],D0[i+1,j])\n",
    "    i,j = array(D0.shape) - 2\n",
    "    \n",
    "    p,q = [i],[j]\n",
    "    while(i>0 or j>0):\n",
    "        tb = argmin((D0[i,j],D0[i,j+1],D0[i+1,j]))\n",
    "        if tb==0 :\n",
    "            i-=1\n",
    "            j-=1\n",
    "        elif tb==1 :\n",
    "            i-=1\n",
    "        else:\n",
    "            j-=1\n",
    "        p.insert(0,i)\n",
    "        q.insert(0,j)\n",
    "        return D1[-1,-1]"
   ]
  },
  {
   "cell_type": "code",
   "execution_count": 3,
   "metadata": {},
   "outputs": [
    {
     "name": "stdout",
     "output_type": "stream",
     "text": [
      "3.0\n"
     ]
    }
   ],
   "source": [
    "# 测试DTW计算结果\n",
    "import numpy as np\n",
    "s1 = np.array([1, 2, 3, 4, 5, 5, 5, 4])\n",
    "s2 = np.array([3, 4, 5, 5, 5, 4])\n",
    "print(DTW(s1,s2))"
   ]
  },
  {
   "cell_type": "code",
   "execution_count": 2,
   "metadata": {},
   "outputs": [],
   "source": [
    "# 提取训练集的y集\n",
    "y_train = pd.DataFrame()\n",
    "y_train['label'] = df_train['label']\n",
    "df_train.drop(columns='label', inplace=True)"
   ]
  },
  {
   "cell_type": "code",
   "execution_count": 3,
   "metadata": {},
   "outputs": [],
   "source": [
    "# 定义函数计算时序数据特征值，参考tsfresh，但是减少了特征量\n",
    "import numpy as np\n",
    "def get_t(df):\n",
    "    mean_list = []\n",
    "    std_list = []\n",
    "    var_list = []\n",
    "    median_list = []\n",
    "    x = pd.DataFrame()\n",
    "    for i in range(len(df)):\n",
    "        mean_list.append(np.mean(df.iloc[i][1:].values))\n",
    "        std_list.append(np.std(df.iloc[i][1:].values))\n",
    "        var_list.append(np.var(df.iloc[i][1:].values))\n",
    "        median_list.append(np.median(df.iloc[i][1:].values))\n",
    "    x['mean'] = mean_list\n",
    "    x['std'] = std_list\n",
    "    x['var'] = var_list\n",
    "    x['median'] = median_list\n",
    "    return x"
   ]
  },
  {
   "cell_type": "code",
   "execution_count": 4,
   "metadata": {},
   "outputs": [
    {
     "name": "stdout",
     "output_type": "stream",
     "text": [
      "       mean       std       var    median\n",
      "0  0.004765  0.583343  0.340289  0.007919\n",
      "1  0.015331  0.065739  0.004322  0.017524\n",
      "2  0.003270  0.540327  0.291954  0.002843\n",
      "3  0.004026  0.366301  0.134176  0.003249\n",
      "4  0.013258  0.233977  0.054745  0.010802\n",
      "       mean       std       var    median\n",
      "0  0.003489  0.537096  0.288472  0.003249\n",
      "1  0.006061  0.809820  0.655808 -0.003452\n",
      "2  0.006581  0.361151  0.130430  0.006497\n",
      "3  0.009584  0.063453  0.004026  0.011891\n",
      "4  0.004482  0.152550  0.023271  0.003411\n"
     ]
    }
   ],
   "source": [
    "# 对训练集和测试集利用时序数据构造新特征\n",
    "x_train = get_t(df_train)\n",
    "x_test = get_t(df_test)\n",
    "print(x_train.head())\n",
    "print(x_test.head())"
   ]
  },
  {
   "cell_type": "code",
   "execution_count": 23,
   "metadata": {
    "scrolled": true
   },
   "outputs": [
    {
     "name": "stdout",
     "output_type": "stream",
     "text": [
      "[9 7 9 0 1 7 4 9 0 3 7 0 7 0 0 7 8 4 5 0 9 8 7 5 8 9 4 0 1 8 3 7 1 0 9 0 1\n",
      " 4 6 9 9 3 0 9 9 8 5 6 7 8 1 7 0 7 0 1 9 9 3 5 5 7 1 6 8 6 6 7 1 5 9 1 0 3\n",
      " 7 9 8 0 0 8 7 1 0 0 1 1 7 4 4 0 9 0 6 7 5 8 0 7 6 0 0 6 6 3 7 3 5 0 2 7 8\n",
      " 7 0 9 4 9 7 1 0 7 9 2 7 7 9 8 1 7 0 4 5 2 9 7 3 8 0 0 3 0 7 5 4 7 5 0 9 7\n",
      " 1 4 2 9 9 0 7 3 7 0 4 5 1 0 0 8 0 7 7 6 5 1 9 0 1 4 0 7 3 9 4 8 7 9 1 1 7\n",
      " 9 8 0 9 7 4 7 0 7 7 1 0 7 9 1 9 0 7 6 7 7 5 0 7 8 9 9 0 9 0 9 4 1 0 9 9 9\n",
      " 0 7 8 4 6 7 1 3 7 3 9 0 1 5 0 9 9 0 0 1 5 8 8 9 0 5 9 1 0 6 0 9 9 6 7 0 7\n",
      " 7 4 0 9 0 3 9 3 4 1 5 7 7 7 6 0 9 2 5 1 7 0 5 6 9 9 7 6 3 9 7 0 1 6 4 0 0\n",
      " 7 9 7 7 7 4 1 3 0 8 0 7 7 8 0 9 1 7 5 9 8 9 6 4 5 8 0 6 9 9 6 6 6 0 0 8 0\n",
      " 7 7 0 0 0 9 0 0 9 3 7 6 3 1 4 1 7 5 0 6 3 5 9 5 6 1 1 8 6 7 7 9 7 7 7 5 9\n",
      " 1 7 7 9 8 0 5 1 6 3 0 9 4 7 5 3 1 8 9 6 0 8 5 9 0 1 4 5 8 9 9 8 3 5 7 0 0\n",
      " 3 7 8 0 9 6 0 1 0 7 4 8 0 9 0 0 1 0 5 9 7 3 8 0 9 7 1 3 9 9 7 6 9 9 7 9 9\n",
      " 5 0 7 6 8 9 5 0 0 8 7 0 1 8 9 1 8 0 0 1 0 7 4 4 6 7 0 1 4 4 0 5 9 1 7 7 9\n",
      " 7 4 9 0 5 3 7 7 7 0 5 5 7 9 7 5 5 1 7 9 1 9 8 7 1 0 8 7 4 6 6 6 1 0 3 9 1\n",
      " 4 0 7 1 9 6 3 6 5 0]\n"
     ]
    }
   ],
   "source": [
    "# 使用sklearn中的KNN进行训练\n",
    "from sklearn.neighbors import KNeighborsClassifier\n",
    "knn = KNeighborsClassifier(n_neighbors=6)\n",
    "knn.fit(x_train, y_train.values.reshape(len(y_train), ))\n",
    "# 进行结果预测\n",
    "rst = knn.predict(x_test)\n",
    "print(rst)\n",
    "result = pd.DataFrame()\n",
    "result['id'] = df_test['id']\n",
    "result['label'] = rst\n",
    "result.to_csv('data/result.csv', index=False, encoding=\"utf-8\")"
   ]
  },
  {
   "cell_type": "code",
   "execution_count": 9,
   "metadata": {},
   "outputs": [
    {
     "name": "stdout",
     "output_type": "stream",
     "text": [
      "[[177   0   0   0   0   0   0   0   0   0]\n",
      " [ 36   7   0   0   0   3   0   0   0   0]\n",
      " [ 30   2   0   0   0  11   0   0   0   0]\n",
      " [ 47   0   0   0   0   3   0   0   0   0]\n",
      " [  0   0   0   0   0   0   0   0   0  51]\n",
      " [  0   2   0   0   0  45   0   0   0   0]\n",
      " [  0   0   0   0   0   0   0   0   0  52]\n",
      " [  0   0   0   0   0   3   0 100   0  37]\n",
      " [ 45   0   0   0   0   0   0   0   0   0]\n",
      " [  0   0   0   0   0   0   0  34   0 107]]\n"
     ]
    }
   ],
   "source": [
    "# 使用SVM进行预测，比对分数，发现表现很差\n",
    "\n",
    "from sklearn.multiclass import OneVsOneClassifier\n",
    "from sklearn.svm import LinearSVC\n",
    "from sklearn.metrics import confusion_matrix\n",
    "clf = OneVsOneClassifier(LinearSVC(random_state=0))\n",
    "clf.fit(x_train, y_train.values.reshape(len(y_train, )))\n",
    "rst = clf.predict(x_train)\n",
    "print(confusion_matrix(y_train, rst))"
   ]
  },
  {
   "cell_type": "code",
   "execution_count": 19,
   "metadata": {
    "scrolled": true
   },
   "outputs": [
    {
     "name": "stdout",
     "output_type": "stream",
     "text": [
      "[[177   0   0   0   0   0   0   0   0   0]\n",
      " [  0  46   0   0   0   0   0   0   0   0]\n",
      " [  0   0  42   1   0   0   0   0   0   0]\n",
      " [  0   0   1  49   0   0   0   0   0   0]\n",
      " [  0   0   0   0  51   0   0   0   0   0]\n",
      " [  0   0   1   0   0  46   0   0   0   0]\n",
      " [  0   0   0   0   0   0  52   0   0   0]\n",
      " [  0   0   0   0   0   0   0 140   0   0]\n",
      " [  0   0   0   0   0   0   0   0  45   0]\n",
      " [  0   0   0   0   0   0   0   0   0 141]]\n"
     ]
    },
    {
     "name": "stderr",
     "output_type": "stream",
     "text": [
      "C:\\Users\\16957\\Anaconda3\\envs\\data-analysis\\lib\\site-packages\\sklearn\\ensemble\\forest.py:246: FutureWarning: The default value of n_estimators will change from 10 in version 0.20 to 100 in 0.22.\n",
      "  \"10 in version 0.20 to 100 in 0.22.\", FutureWarning)\n"
     ]
    }
   ],
   "source": [
    "from sklearn.ensemble import RandomForestClassifier\n",
    "clf = RandomForestClassifier()\n",
    "clf.fit(x_train, y_train.values.reshape(len(y_train, )))\n",
    "rst = clf.predict(x_train)\n",
    "print(confusion_matrix(y_train, rst))"
   ]
  },
  {
   "cell_type": "code",
   "execution_count": 20,
   "metadata": {},
   "outputs": [
    {
     "name": "stderr",
     "output_type": "stream",
     "text": [
      "C:\\Users\\16957\\Anaconda3\\envs\\data-analysis\\lib\\site-packages\\sklearn\\ensemble\\forest.py:246: FutureWarning: The default value of n_estimators will change from 10 in version 0.20 to 100 in 0.22.\n",
      "  \"10 in version 0.20 to 100 in 0.22.\", FutureWarning)\n"
     ]
    },
    {
     "name": "stdout",
     "output_type": "stream",
     "text": [
      "[9 7 9 0 1 7 9 9 0 3 9 0 7 0 0 7 8 9 7 0 7 2 7 5 8 9 9 0 1 8 3 7 1 0 9 0 1\n",
      " 4 6 9 9 3 0 9 9 8 5 9 7 8 1 7 0 7 0 1 9 9 3 5 5 7 1 6 8 6 6 7 1 5 9 1 0 3\n",
      " 9 9 8 0 0 8 7 1 0 0 1 1 7 4 9 0 9 0 6 7 5 8 0 7 9 0 0 9 6 2 7 3 5 0 2 7 8\n",
      " 7 0 9 4 9 7 1 0 7 9 2 7 7 9 2 2 7 0 4 2 3 9 7 3 8 0 0 3 0 7 5 4 9 2 0 9 7\n",
      " 2 4 2 9 7 0 7 2 7 0 4 2 1 0 0 2 0 7 9 6 5 1 9 0 1 4 0 7 3 9 4 8 7 9 1 2 7\n",
      " 9 8 0 9 7 4 7 0 7 7 5 0 7 7 1 9 0 7 6 9 7 5 0 7 8 9 4 0 9 0 9 4 1 0 9 9 4\n",
      " 0 7 8 4 6 7 1 3 7 3 9 0 1 2 0 7 7 0 0 1 5 8 8 9 0 2 9 1 0 6 0 9 7 6 7 0 7\n",
      " 7 4 0 7 0 3 9 3 9 1 2 7 7 7 6 0 9 2 5 2 7 0 5 9 9 9 9 9 3 9 7 0 2 6 4 0 0\n",
      " 9 9 7 7 7 4 1 3 0 8 0 7 7 8 0 7 1 7 5 9 8 9 6 4 2 8 0 6 9 7 6 6 9 0 0 8 0\n",
      " 7 7 0 0 0 9 0 0 9 3 7 6 3 1 4 1 7 5 0 6 3 5 9 5 6 1 1 2 9 7 7 9 7 7 7 5 9\n",
      " 1 9 7 9 2 0 5 1 6 8 0 9 4 7 5 3 1 8 9 6 0 8 5 7 0 1 4 2 8 7 9 8 3 5 7 0 0\n",
      " 3 9 8 0 9 6 0 1 0 7 4 8 0 9 0 0 1 0 5 9 7 3 2 0 9 7 1 3 9 9 7 6 9 9 7 9 7\n",
      " 5 0 7 6 8 9 5 0 0 8 7 0 1 8 9 1 8 0 0 1 0 7 4 4 6 7 0 1 4 4 0 5 9 1 7 9 9\n",
      " 7 9 9 0 5 2 7 7 7 0 5 2 7 9 7 5 5 5 7 9 1 9 8 7 1 0 8 7 4 9 6 9 2 0 3 9 1\n",
      " 4 0 7 1 9 9 3 6 2 0]\n"
     ]
    }
   ],
   "source": [
    "from sklearn.ensemble import RandomForestClassifier\n",
    "clf = RandomForestClassifier()\n",
    "clf.fit(x_train, y_train.values.reshape(len(y_train, )))\n",
    "rst = clf.predict(x_test)\n",
    "print(rst)\n",
    "result = pd.DataFrame()\n",
    "result['id'] = df_test['id']\n",
    "result['label'] = rst\n",
    "result.to_csv('data/result.csv', index=False, encoding=\"utf-8\")"
   ]
  },
  {
   "cell_type": "code",
   "execution_count": null,
   "metadata": {},
   "outputs": [],
   "source": []
  }
 ],
 "metadata": {
  "kernelspec": {
   "display_name": "Python 3",
   "language": "python",
   "name": "python3"
  },
  "language_info": {
   "codemirror_mode": {
    "name": "ipython",
    "version": 3
   },
   "file_extension": ".py",
   "mimetype": "text/x-python",
   "name": "python",
   "nbconvert_exporter": "python",
   "pygments_lexer": "ipython3",
   "version": "3.6.6"
  }
 },
 "nbformat": 4,
 "nbformat_minor": 2
}
